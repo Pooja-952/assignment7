{
 "cells": [
  {
   "cell_type": "markdown",
   "id": "6396e16e-85ae-4b36-ae9c-8ea856cd0dc6",
   "metadata": {},
   "source": [
    "## Q5. Given a string s and an integer k, reverse the first k characters for every 2k characters counting from the start of the string.\n",
    "If there are fewer than k characters left, reverse all of them. If there are less than 2k but greater than or equal to k characters, then reverse the first k characters and leave the other as original."
   ]
  },
  {
   "cell_type": "code",
   "execution_count": 1,
   "id": "0ddffbdb-73ca-493f-8b9b-0be550d9014c",
   "metadata": {},
   "outputs": [],
   "source": [
    "def charReverse(s, k):\n",
    "    n = len(s)\n",
    "    char = list(s)\n",
    "    \n",
    "    for i in range(0, n, 2*k):\n",
    "        char[i:i+k] = char[i:i+k][::-1]\n",
    "        \n",
    "    return ''.join(char)\n",
    "        "
   ]
  },
  {
   "cell_type": "code",
   "execution_count": 2,
   "id": "c843f1ab-e5aa-46fe-9ed2-81ca351e3dff",
   "metadata": {},
   "outputs": [
    {
     "name": "stdout",
     "output_type": "stream",
     "text": [
      "bacdfeg\n"
     ]
    }
   ],
   "source": [
    "s = \"abcdefg\"\n",
    "k = 2\n",
    "result = charReverse(s, k)\n",
    "print(result)"
   ]
  },
  {
   "cell_type": "code",
   "execution_count": null,
   "id": "deb21964-8080-4f13-903c-c3c35121d05c",
   "metadata": {},
   "outputs": [],
   "source": []
  }
 ],
 "metadata": {
  "kernelspec": {
   "display_name": "Python 3 (ipykernel)",
   "language": "python",
   "name": "python3"
  },
  "language_info": {
   "codemirror_mode": {
    "name": "ipython",
    "version": 3
   },
   "file_extension": ".py",
   "mimetype": "text/x-python",
   "name": "python",
   "nbconvert_exporter": "python",
   "pygments_lexer": "ipython3",
   "version": "3.10.6"
  }
 },
 "nbformat": 4,
 "nbformat_minor": 5
}
