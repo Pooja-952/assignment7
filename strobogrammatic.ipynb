{
 "cells": [
  {
   "cell_type": "markdown",
   "id": "37e31384-c634-4646-9260-b824f12fb343",
   "metadata": {},
   "source": [
    "## Q2. Given a string num which represents an integer, return true *if* num *is a **strobogrammatic number*** A **strobogrammatic number** is a number that looks the same when rotated 180 degrees (looked at upside down)."
   ]
  },
  {
   "cell_type": "code",
   "execution_count": 1,
   "id": "c7e0badc-7ef5-448a-98a4-41ced3489536",
   "metadata": {},
   "outputs": [],
   "source": [
    "def strobogrammatic(num):\n",
    "    n= len(num)\n",
    "    left = 0\n",
    "    right = n - 1\n",
    "    valid_pairs = {'00', '11', '69', '88', '96'}\n",
    "    \n",
    "    while left <= right:\n",
    "        pair = num[left] + num[right]\n",
    "        \n",
    "        if pair not in valid_pairs:\n",
    "            return False\n",
    "        \n",
    "        left += 1\n",
    "        right -= 1\n",
    "        \n",
    "    return True    \n",
    "    "
   ]
  },
  {
   "cell_type": "code",
   "execution_count": 3,
   "id": "d48b6fb5-daff-496d-b541-859cd897ae00",
   "metadata": {},
   "outputs": [
    {
     "name": "stdout",
     "output_type": "stream",
     "text": [
      "True\n"
     ]
    }
   ],
   "source": [
    "num = \"69\"\n",
    "result = strobogrammatic(num)\n",
    "print(result)"
   ]
  },
  {
   "cell_type": "code",
   "execution_count": null,
   "id": "02e372ad-87ba-4797-a2d9-24e0bd5ee98f",
   "metadata": {},
   "outputs": [],
   "source": []
  }
 ],
 "metadata": {
  "kernelspec": {
   "display_name": "Python 3 (ipykernel)",
   "language": "python",
   "name": "python3"
  },
  "language_info": {
   "codemirror_mode": {
    "name": "ipython",
    "version": 3
   },
   "file_extension": ".py",
   "mimetype": "text/x-python",
   "name": "python",
   "nbconvert_exporter": "python",
   "pygments_lexer": "ipython3",
   "version": "3.10.6"
  }
 },
 "nbformat": 4,
 "nbformat_minor": 5
}
