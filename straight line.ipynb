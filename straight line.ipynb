{
 "cells": [
  {
   "cell_type": "markdown",
   "id": "9607abc9-685e-4613-b56b-1b4e43bfc56c",
   "metadata": {},
   "source": [
    "## Q8. You are given an array coordinates, coordinates[i] = [x, y], where [x, y] represents the coordinate of a point. Check if these points make a straight line in the XY plane."
   ]
  },
  {
   "cell_type": "code",
   "execution_count": 5,
   "id": "080ec73c-b317-4e4c-8286-b7fbe3c48c73",
   "metadata": {},
   "outputs": [],
   "source": [
    "def checkStraightLine(coordinates):\n",
    "    x1, y1 = coordinates[0]\n",
    "    x2, y2 = coordinates[1]\n",
    "    \n",
    "    \n",
    "    if (x2 - x1) != 0:\n",
    "        initial_slope = (y2 - y1) / (x2 - x1)\n",
    "        \n",
    "    else:\n",
    "        float('inf')\n",
    "        \n",
    "    for i in range(2, len(coordinates)):\n",
    "        x1, y1= coordinates[i - 1]\n",
    "        x2, y2 = coordinates[i]\n",
    "        \n",
    "        if (x2 - x1) != 0:\n",
    "            slope = (y2 - y1) / (x2 - x1)\n",
    "        else:\n",
    "            float('inf')\n",
    "            \n",
    "        if slope != initial_slope:\n",
    "            return False\n",
    "        \n",
    "    return True    \n",
    "            \n",
    "        "
   ]
  },
  {
   "cell_type": "code",
   "execution_count": 6,
   "id": "033aeb57-c1b7-4060-b9f0-6259a06e1b91",
   "metadata": {},
   "outputs": [
    {
     "name": "stdout",
     "output_type": "stream",
     "text": [
      "True\n"
     ]
    }
   ],
   "source": [
    "coordinates = [[1,2],[2,3],[3,4],[4,5],[5,6],[6,7]]\n",
    "result = checkStraightLine(coordinates)\n",
    "print(result)"
   ]
  },
  {
   "cell_type": "code",
   "execution_count": null,
   "id": "d3df1905-fe0d-4544-8645-95de53dae6ac",
   "metadata": {},
   "outputs": [],
   "source": []
  }
 ],
 "metadata": {
  "kernelspec": {
   "display_name": "Python 3 (ipykernel)",
   "language": "python",
   "name": "python3"
  },
  "language_info": {
   "codemirror_mode": {
    "name": "ipython",
    "version": 3
   },
   "file_extension": ".py",
   "mimetype": "text/x-python",
   "name": "python",
   "nbconvert_exporter": "python",
   "pygments_lexer": "ipython3",
   "version": "3.10.6"
  }
 },
 "nbformat": 4,
 "nbformat_minor": 5
}
