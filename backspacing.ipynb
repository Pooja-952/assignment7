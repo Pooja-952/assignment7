{
 "cells": [
  {
   "cell_type": "markdown",
   "id": "413e2474-a4e5-45d4-a556-5503be9c015e",
   "metadata": {},
   "source": [
    "## Q7. Given two strings s and t, return true *if they are equal when both are typed into empty text editors*. '#' means a backspace character. Note that after backspacing an empty text, the text will continue empty."
   ]
  },
  {
   "cell_type": "code",
   "execution_count": 4,
   "id": "0c1e453f-293a-477b-bcc4-9f1fbe22c2f5",
   "metadata": {},
   "outputs": [],
   "source": [
    "def processString(s):\n",
    "    editor = []\n",
    "    \n",
    "    for char in s:\n",
    "        if char != '#':\n",
    "            editor.append(char)\n",
    "        elif editor:\n",
    "            editor.pop()\n",
    "    return ''.join(editor)\n",
    "\n",
    "def backspaceCompare(s, t):\n",
    "    s_processed = processString(s)\n",
    "    t_processed = processString(t)\n",
    "    \n",
    "    return s_processed == t_processed\n",
    "\n",
    "    "
   ]
  },
  {
   "cell_type": "code",
   "execution_count": 5,
   "id": "b245e839-af4f-4f5a-9171-5ba6bc9f3cd7",
   "metadata": {},
   "outputs": [
    {
     "name": "stdout",
     "output_type": "stream",
     "text": [
      "True\n"
     ]
    }
   ],
   "source": [
    "s = \"ab#c\"\n",
    "t = \"ad#c\"\n",
    "result = backspaceCompare(s, t)\n",
    "print(result)\n"
   ]
  },
  {
   "cell_type": "code",
   "execution_count": null,
   "id": "bb8cb64f-a2a3-4bb4-aef9-0688d0f7f0aa",
   "metadata": {},
   "outputs": [],
   "source": []
  }
 ],
 "metadata": {
  "kernelspec": {
   "display_name": "Python 3 (ipykernel)",
   "language": "python",
   "name": "python3"
  },
  "language_info": {
   "codemirror_mode": {
    "name": "ipython",
    "version": 3
   },
   "file_extension": ".py",
   "mimetype": "text/x-python",
   "name": "python",
   "nbconvert_exporter": "python",
   "pygments_lexer": "ipython3",
   "version": "3.10.6"
  }
 },
 "nbformat": 4,
 "nbformat_minor": 5
}
