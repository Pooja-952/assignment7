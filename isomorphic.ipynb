{
 "cells": [
  {
   "cell_type": "markdown",
   "id": "8c112609-af2e-49cd-abf2-7ac7955a5378",
   "metadata": {},
   "source": [
    "## Q1. Given two strings s and t, *determine if they are isomorphic*. Two strings s and t are isomorphic if the characters in s can be replaced to get t.\n",
    "All occurrences of a character must be replaced with another character while preserving the order of characters. No two characters may map to the same character, but a character may map to itself."
   ]
  },
  {
   "cell_type": "code",
   "execution_count": 31,
   "id": "3a28b613-e6ff-45f2-ab12-e903c480b90b",
   "metadata": {},
   "outputs": [],
   "source": [
    "def isomorphic(s, t):\n",
    "    s_map = {}\n",
    "    t_map = {}\n",
    "    result = []\n",
    "    for c in (s):\n",
    "        for d in (t):\n",
    "            if c not in s_map and d not in t_map:\n",
    "                d = s_map[c]\n",
    "                c = t_map[d]\n",
    "            elif s_map.get(c)!= d or t_map.get(d)!= c:\n",
    "                return False\n",
    "    return True        \n",
    "                "
   ]
  },
  {
   "cell_type": "code",
   "execution_count": 32,
   "id": "eafb9d3e-e252-47fb-a85e-4c0f9257a341",
   "metadata": {},
   "outputs": [
    {
     "ename": "KeyError",
     "evalue": "'e'",
     "output_type": "error",
     "traceback": [
      "\u001b[0;31m---------------------------------------------------------------------------\u001b[0m",
      "\u001b[0;31mKeyError\u001b[0m                                  Traceback (most recent call last)",
      "Cell \u001b[0;32mIn [32], line 3\u001b[0m\n\u001b[1;32m      1\u001b[0m s \u001b[38;5;241m=\u001b[39m \u001b[38;5;124m\"\u001b[39m\u001b[38;5;124megg\u001b[39m\u001b[38;5;124m\"\u001b[39m\n\u001b[1;32m      2\u001b[0m t \u001b[38;5;241m=\u001b[39m \u001b[38;5;124m\"\u001b[39m\u001b[38;5;124madd\u001b[39m\u001b[38;5;124m\"\u001b[39m\n\u001b[0;32m----> 3\u001b[0m result \u001b[38;5;241m=\u001b[39m \u001b[43misomorphic\u001b[49m\u001b[43m(\u001b[49m\u001b[43ms\u001b[49m\u001b[43m,\u001b[49m\u001b[43m \u001b[49m\u001b[43mt\u001b[49m\u001b[43m)\u001b[49m\n\u001b[1;32m      4\u001b[0m \u001b[38;5;28mprint\u001b[39m(result)\n",
      "Cell \u001b[0;32mIn [31], line 8\u001b[0m, in \u001b[0;36misomorphic\u001b[0;34m(s, t)\u001b[0m\n\u001b[1;32m      6\u001b[0m \u001b[38;5;28;01mfor\u001b[39;00m d \u001b[38;5;129;01min\u001b[39;00m (t):\n\u001b[1;32m      7\u001b[0m     \u001b[38;5;28;01mif\u001b[39;00m c \u001b[38;5;129;01mnot\u001b[39;00m \u001b[38;5;129;01min\u001b[39;00m s_map \u001b[38;5;129;01mand\u001b[39;00m d \u001b[38;5;129;01mnot\u001b[39;00m \u001b[38;5;129;01min\u001b[39;00m t_map:\n\u001b[0;32m----> 8\u001b[0m         d \u001b[38;5;241m=\u001b[39m \u001b[43ms_map\u001b[49m\u001b[43m[\u001b[49m\u001b[43mc\u001b[49m\u001b[43m]\u001b[49m\n\u001b[1;32m      9\u001b[0m         c \u001b[38;5;241m=\u001b[39m t_map[d]\n\u001b[1;32m     10\u001b[0m     \u001b[38;5;28;01melif\u001b[39;00m s_map\u001b[38;5;241m.\u001b[39mget(c)\u001b[38;5;241m!=\u001b[39m d \u001b[38;5;129;01mor\u001b[39;00m t_map\u001b[38;5;241m.\u001b[39mget(d)\u001b[38;5;241m!=\u001b[39m c:\n",
      "\u001b[0;31mKeyError\u001b[0m: 'e'"
     ]
    }
   ],
   "source": [
    "s = \"egg\"\n",
    "t = \"add\"\n",
    "result = isomorphic(s, t)\n",
    "print(result)"
   ]
  },
  {
   "cell_type": "code",
   "execution_count": null,
   "id": "504a768d-2bcd-455a-9b82-b283c90f6b58",
   "metadata": {},
   "outputs": [],
   "source": []
  }
 ],
 "metadata": {
  "kernelspec": {
   "display_name": "Python 3 (ipykernel)",
   "language": "python",
   "name": "python3"
  },
  "language_info": {
   "codemirror_mode": {
    "name": "ipython",
    "version": 3
   },
   "file_extension": ".py",
   "mimetype": "text/x-python",
   "name": "python",
   "nbconvert_exporter": "python",
   "pygments_lexer": "ipython3",
   "version": "3.10.6"
  }
 },
 "nbformat": 4,
 "nbformat_minor": 5
}
