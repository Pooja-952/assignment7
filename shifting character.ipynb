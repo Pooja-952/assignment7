{
 "cells": [
  {
   "cell_type": "markdown",
   "id": "fcc953e8-2a7c-4d74-816a-43f2a91b086e",
   "metadata": {},
   "source": [
    "## Q6. Given two strings s and goal, return true *if and only if* s *can become* goal *after some number of **shifts** on* s.\n",
    "A **shift** on s consists of moving the leftmost character of s to the rightmost position.\n",
    "- For example, if s = \"abcde\", then it will be \"bcdea\" after one shift."
   ]
  },
  {
   "cell_type": "code",
   "execution_count": 7,
   "id": "f445b098-8739-4629-b8b5-e8eeed970def",
   "metadata": {},
   "outputs": [],
   "source": [
    "def shiftingChar(s, goal):\n",
    "    n = len(s)\n",
    "    \n",
    "    if n != len(goal):\n",
    "        return False\n",
    "        \n",
    "    s_double = s + s\n",
    "    if goal in s_double:\n",
    "        return True\n",
    "    else:\n",
    "        return False\n",
    "            "
   ]
  },
  {
   "cell_type": "code",
   "execution_count": 8,
   "id": "0ced728a-2627-4d81-bf24-0843f0a34f14",
   "metadata": {},
   "outputs": [
    {
     "name": "stdout",
     "output_type": "stream",
     "text": [
      "True\n"
     ]
    }
   ],
   "source": [
    "s = \"abcde\"\n",
    "goal = \"cdeab\"\n",
    "result = shiftingChar(s, goal)\n",
    "print(result)"
   ]
  },
  {
   "cell_type": "code",
   "execution_count": null,
   "id": "6306e2b3-200c-4776-bc76-6f2659d4b6e9",
   "metadata": {},
   "outputs": [],
   "source": []
  }
 ],
 "metadata": {
  "kernelspec": {
   "display_name": "Python 3 (ipykernel)",
   "language": "python",
   "name": "python3"
  },
  "language_info": {
   "codemirror_mode": {
    "name": "ipython",
    "version": 3
   },
   "file_extension": ".py",
   "mimetype": "text/x-python",
   "name": "python",
   "nbconvert_exporter": "python",
   "pygments_lexer": "ipython3",
   "version": "3.10.6"
  }
 },
 "nbformat": 4,
 "nbformat_minor": 5
}
