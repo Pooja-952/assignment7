{
 "cells": [
  {
   "cell_type": "markdown",
   "id": "ac8a35a4-1e71-4040-91f6-c079dbabe83a",
   "metadata": {},
   "source": [
    "## Q4. Given a string s, reverse the order of characters in each word within a sentence while still preserving whitespace and initial word order."
   ]
  },
  {
   "cell_type": "code",
   "execution_count": 1,
   "id": "ea0fe9b0-9383-4bf3-9ed8-bdb2c0600856",
   "metadata": {},
   "outputs": [],
   "source": [
    "def charReverse(s):\n",
    "    words = s.split()\n",
    "    reversed_words = [word[: :-1] for word in words]\n",
    "    return ''.join(reversed_words)"
   ]
  },
  {
   "cell_type": "code",
   "execution_count": 3,
   "id": "f67e6b91-fd01-46a1-83f6-85c5c5b0b1b5",
   "metadata": {},
   "outputs": [
    {
     "name": "stdout",
     "output_type": "stream",
     "text": [
      "s'teLekatedoCteeLtsetnoc\n"
     ]
    }
   ],
   "source": [
    "s = \"Let's take LeetCode contest\"\n",
    "result = charReverse(s)\n",
    "print(result)"
   ]
  },
  {
   "cell_type": "code",
   "execution_count": null,
   "id": "2db9a8d2-6a37-4bc7-a001-e157e8358b8e",
   "metadata": {},
   "outputs": [],
   "source": []
  }
 ],
 "metadata": {
  "kernelspec": {
   "display_name": "Python 3 (ipykernel)",
   "language": "python",
   "name": "python3"
  },
  "language_info": {
   "codemirror_mode": {
    "name": "ipython",
    "version": 3
   },
   "file_extension": ".py",
   "mimetype": "text/x-python",
   "name": "python",
   "nbconvert_exporter": "python",
   "pygments_lexer": "ipython3",
   "version": "3.10.6"
  }
 },
 "nbformat": 4,
 "nbformat_minor": 5
}
