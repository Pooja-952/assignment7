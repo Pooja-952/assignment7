{
 "cells": [
  {
   "cell_type": "markdown",
   "id": "e0662141-9121-4f9f-bd70-11a0f1546304",
   "metadata": {},
   "source": [
    "## Q3. Given two non-negative integers, num1 and num2 represented as string, return *the sum of* num1 *and* num2 *as a string*. You must solve the problem without using any built-in library for handling large integers (such as BigInteger). You must also not convert the inputs to integers directly."
   ]
  },
  {
   "cell_type": "code",
   "execution_count": 12,
   "id": "1e20f0dd-9d29-4cc4-88ab-d6853675822a",
   "metadata": {},
   "outputs": [],
   "source": [
    "def integerSum(num1, num2):\n",
    "    left = len(num1) -1\n",
    "    right = len(num2) - 1 \n",
    "    carry = 0\n",
    "    result = \"\"\n",
    "    \n",
    "    \n",
    "    while left >= 0 or right >= 0:\n",
    "        digit_sum = carry\n",
    "        if left >= 0:\n",
    "            digit_sum += int(num1[left])\n",
    "            left -= 1\n",
    "        if right >= 0:\n",
    "            digit_sum += int(num2[right])\n",
    "            right -= 1\n",
    "            \n",
    "        result= str(digit_sum % 10) + result\n",
    "        carry = digit_sum // 10\n",
    "        \n",
    "    if carry > 0:\n",
    "        result = str(carry) + result\n",
    "        \n",
    "    return result    \n",
    "        "
   ]
  },
  {
   "cell_type": "code",
   "execution_count": 13,
   "id": "b5beb3b2-eafd-4864-8e07-a8b6e93edc7c",
   "metadata": {},
   "outputs": [
    {
     "name": "stdout",
     "output_type": "stream",
     "text": [
      "134\n"
     ]
    }
   ],
   "source": [
    "num1 = \"11\"\n",
    "num2 = \"123\"\n",
    "sum = integerSum(num1, num2)\n",
    "print(sum)"
   ]
  },
  {
   "cell_type": "code",
   "execution_count": null,
   "id": "43b1353b-aab4-4b60-953b-1133299c11ec",
   "metadata": {},
   "outputs": [],
   "source": []
  },
  {
   "cell_type": "code",
   "execution_count": null,
   "id": "e4f20236-7661-4b7b-afc0-1710f9cdda4c",
   "metadata": {},
   "outputs": [],
   "source": []
  }
 ],
 "metadata": {
  "kernelspec": {
   "display_name": "Python 3 (ipykernel)",
   "language": "python",
   "name": "python3"
  },
  "language_info": {
   "codemirror_mode": {
    "name": "ipython",
    "version": 3
   },
   "file_extension": ".py",
   "mimetype": "text/x-python",
   "name": "python",
   "nbconvert_exporter": "python",
   "pygments_lexer": "ipython3",
   "version": "3.10.6"
  }
 },
 "nbformat": 4,
 "nbformat_minor": 5
}
